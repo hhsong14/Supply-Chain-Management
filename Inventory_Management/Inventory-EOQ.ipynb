{
 "cells": [
  {
   "cell_type": "code",
   "execution_count": null,
   "metadata": {},
   "outputs": [],
   "source": [
    "import numpy\n",
    "import math\n",
    "\n",
    "class EOQ_Model:\n",
    "    def __init__(self, demand=0, order=0, holding=0, cost=0, lead=0, planned_shortage=False, shortage_cost=0):\n",
    "        self.demand = demand\n",
    "        self.order = order\n",
    "        self.holding = holding\n",
    "        self.lead = lead\n",
    "        self.cost = cost\n",
    "        self.planned_shortage = planned_shortage\n",
    "        self.shortage_cost = shortage_cost\n",
    "            \n",
    "    \n",
    "    def optimal_order_quantity(self, d=self.demand, K=None, h=None, p=None):\n",
    "        \n",
    "        \n",
    "        if K is None:\n",
    "            K = self.order\n",
    "        if h is None:\n",
    "            h = self.holding\n",
    "        if p is None:\n",
    "            p = self.shortage_cost\n",
    "        \n",
    "        if self.planned_shortage:\n",
    "            return math.sqrt((2*d*K)/h) * math.sqrt(self.shortage_cost/(self.shortage_cost + self.holding))\n",
    "        else:\n",
    "            return math.sqrt((2*d*K)/h)\n",
    "\n",
    "    def reorder_point(self, d=None, L=None):\n",
    " \n",
    "        if d is None:\n",
    "            d = self.demand\n",
    "        if L is None:\n",
    "            L = self.lead\n",
    "        return d * L\n",
    "    \n",
    "    def optimal_cycle_time(self, d=None, K=None, h=None, p=None):\n",
    "        \n",
    "        if d is None:\n",
    "            d = self.demand\n",
    "        if K is None:\n",
    "            K = self.order\n",
    "        if h is None:\n",
    "            h = self.holding\n",
    "        if p is None:\n",
    "            p = self.shortage_cost\n",
    "        \n",
    "        if self.planned_shortage:\n",
    "            return math.sqrt((2*K)/(h*d)) * math.sqrt((self.shortage_cost + self.holding)/self.shortage_cost)\n",
    "        else:\n",
    "            return math.sqrt((2*K)/(h*d))\n",
    "    \n",
    "    def complete_calculations(self):\n",
    "\n",
    "        Q = self.optimal_order_quantity()\n",
    "        r = self.reorder_point()\n",
    "        t = self.optimal_cycle_time()\n",
    "        Q = round(Q)\n",
    "        t = round(t, 3)\n",
    "        print(\"Optimal Order Quantity (Q*): {} units\".format(Q))\n",
    "        print(\"Optimal Reorder Point (r*): {} units\".format(r))\n",
    "        print(\"Optimal Cycle Time (t*): {}\".format(t))"
   ]
  },
  {
   "cell_type": "code",
   "execution_count": null,
   "metadata": {},
   "outputs": [],
   "source": [
    "[d, K, c, h, p, l]=[100, 100, 20, 0.1, 1, 1]"
   ]
  },
  {
   "cell_type": "code",
   "execution_count": null,
   "metadata": {},
   "outputs": [],
   "source": [
    "model = EOQ_Model(demand=d, order=K, cost=c, holding=h, planned_shortage=False, shortage_cost=p, lead=l)\n",
    "model.complete_calculations()"
   ]
  },
  {
   "cell_type": "code",
   "execution_count": null,
   "metadata": {
    "scrolled": true
   },
   "outputs": [],
   "source": [
    "model = EOQ_Model(demand=d, order=K, cost=c, holding=h, planned_shortage=True, shortage_cost=p, lead=l)\n",
    "model.complete_calculations()"
   ]
  }
 ],
 "metadata": {
  "kernelspec": {
   "display_name": "Python 3",
   "language": "python",
   "name": "python3"
  },
  "language_info": {
   "codemirror_mode": {
    "name": "ipython",
    "version": 3
   },
   "file_extension": ".py",
   "mimetype": "text/x-python",
   "name": "python",
   "nbconvert_exporter": "python",
   "pygments_lexer": "ipython3",
   "version": "3.7.0"
  }
 },
 "nbformat": 4,
 "nbformat_minor": 2
}
