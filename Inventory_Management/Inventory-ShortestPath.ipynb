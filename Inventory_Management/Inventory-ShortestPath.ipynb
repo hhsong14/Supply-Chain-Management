{
 "cells": [
  {
   "cell_type": "code",
   "execution_count": 1,
   "metadata": {},
   "outputs": [],
   "source": [
    "from collections import defaultdict\n",
    "from heapq import *\n",
    "\n",
    "def dijkstra(edges, s, t):      #source node s and sink node t\n",
    "    \n",
    "    g = defaultdict(list)\n",
    "    for l,r,edge_cost in edges:\n",
    "        g[l].append((edge_cost,r))\n",
    "\n",
    "    queue = [(0,s,())]     #priority queue  \n",
    "    seen = set()           #processed nodes  \n",
    "    mins = {s: 0}          #prev stored v and A[v]\n",
    "    \n",
    "    while queue:\n",
    "        (A_v,v,path) = heappop(queue)                  #pop the node v with least cost A[v]\n",
    "        seen.add(v)                                    #label this node as processed\n",
    "        path = (v, path) \n",
    "        if v == t: return (A_v, path)                  #output the shortest distance and path\n",
    "\n",
    "        for edge_cost, w in g.get(v, ()):           #get the neighbors of v from dict\n",
    "            if w in seen: continue                  #ignore w if it has been processed\n",
    "            prev = mins.get(w, None)\n",
    "            next = A_v + edge_cost\n",
    "            if prev is None or next < prev:         #update A[w] using Dijkstra's greedy criterion\n",
    "                mins[w] = next\n",
    "                heappush(queue, (next, w, path))\n",
    "    return float(\"inf\")"
   ]
  },
  {
   "cell_type": "code",
   "execution_count": 2,
   "metadata": {},
   "outputs": [
    {
     "name": "stdout",
     "output_type": "stream",
     "text": [
      "Dijkstra's shorest path from 's' to 'c' is\n",
      "(6, ('c', ('b', ('a', ('s', ())))))\n"
     ]
    }
   ],
   "source": [
    "edges = [\n",
    "        (\"s\", \"a\", 1),\n",
    "        (\"s\", \"b\", 4),\n",
    "        (\"a\", \"b\", 2),\n",
    "        (\"a\", \"c\", 6),\n",
    "        (\"b\", \"c\", 3)\n",
    "        ]\n",
    "\n",
    "print(\"Dijkstra's shorest path from 's' to 'c' is\")\n",
    "print(dijkstra(edges, \"s\", \"c\"))"
   ]
  },
  {
   "cell_type": "code",
   "execution_count": null,
   "metadata": {},
   "outputs": [],
   "source": []
  }
 ],
 "metadata": {
  "kernelspec": {
   "display_name": "Python 3",
   "language": "python",
   "name": "python3"
  },
  "language_info": {
   "codemirror_mode": {
    "name": "ipython",
    "version": 3
   },
   "file_extension": ".py",
   "mimetype": "text/x-python",
   "name": "python",
   "nbconvert_exporter": "python",
   "pygments_lexer": "ipython3",
   "version": "3.8.5"
  }
 },
 "nbformat": 4,
 "nbformat_minor": 2
}
